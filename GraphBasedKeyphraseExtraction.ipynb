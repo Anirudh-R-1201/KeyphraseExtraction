{
  "nbformat": 4,
  "nbformat_minor": 0,
  "metadata": {
    "colab": {
      "name": "GraphBasedKeyphraseExtraction.ipynb",
      "provenance": [],
      "collapsed_sections": []
    },
    "kernelspec": {
      "name": "python3",
      "display_name": "Python 3"
    }
  },
  "cells": [
    {
      "cell_type": "code",
      "metadata": {
        "id": "0TwsHR9Ytyie"
      },
      "source": [
        "import pandas as pd\n",
        "import numpy as np\n",
        "from zipfile import ZipFile\n",
        "from pathlib import Path\n",
        "import matplotlib.pyplot as plt\n",
        "import os\n",
        "import json\n",
        "import re\n",
        "import gzip\n",
        "from urllib.request import urlopen"
      ],
      "execution_count": null,
      "outputs": []
    },
    {
      "cell_type": "code",
      "metadata": {
        "id": "wTaXcTDGt4a1",
        "colab": {
          "base_uri": "https://localhost:8080/",
          "height": 208
        },
        "outputId": "173c7d17-ae51-4880-82c3-eda9bbe8fe69"
      },
      "source": [
        "!wget http://snap.stanford.edu/data/amazon/productGraph/categoryFiles/reviews_Cell_Phones_and_Accessories_5.json.gz"
      ],
      "execution_count": null,
      "outputs": [
        {
          "output_type": "stream",
          "text": [
            "--2020-07-29 05:13:07--  http://snap.stanford.edu/data/amazon/productGraph/categoryFiles/reviews_Cell_Phones_and_Accessories_5.json.gz\n",
            "Resolving snap.stanford.edu (snap.stanford.edu)... 171.64.75.80\n",
            "Connecting to snap.stanford.edu (snap.stanford.edu)|171.64.75.80|:80... connected.\n",
            "HTTP request sent, awaiting response... 200 OK\n",
            "Length: 45409631 (43M) [application/x-gzip]\n",
            "Saving to: ‘reviews_Cell_Phones_and_Accessories_5.json.gz’\n",
            "\n",
            "reviews_Cell_Phones 100%[===================>]  43.31M  4.80MB/s    in 9.0s    \n",
            "\n",
            "2020-07-29 05:13:16 (4.83 MB/s) - ‘reviews_Cell_Phones_and_Accessories_5.json.gz’ saved [45409631/45409631]\n",
            "\n"
          ],
          "name": "stdout"
        }
      ]
    },
    {
      "cell_type": "code",
      "metadata": {
        "id": "OMjJ38kJt6oE",
        "colab": {
          "base_uri": "https://localhost:8080/",
          "height": 72
        },
        "outputId": "7982c79d-9af9-4b5b-f7c8-907fbfde4595"
      },
      "source": [
        "data = []\n",
        "with gzip.open('reviews_Cell_Phones_and_Accessories_5.json.gz') as f:\n",
        "    for l in f:\n",
        "        data.append(json.loads(l.strip()))\n",
        "print(len(data))\n",
        "print(data[0])"
      ],
      "execution_count": null,
      "outputs": [
        {
          "output_type": "stream",
          "text": [
            "194439\n",
            "{'reviewerID': 'A30TL5EWN6DFXT', 'asin': '120401325X', 'reviewerName': 'christina', 'helpful': [0, 0], 'reviewText': \"They look good and stick good! I just don't like the rounded shape because I was always bumping it and Siri kept popping up and it was irritating. I just won't buy a product like this again\", 'overall': 4.0, 'summary': 'Looks Good', 'unixReviewTime': 1400630400, 'reviewTime': '05 21, 2014'}\n"
          ],
          "name": "stdout"
        }
      ]
    },
    {
      "cell_type": "code",
      "metadata": {
        "id": "zhS2udX1t8x6",
        "colab": {
          "base_uri": "https://localhost:8080/",
          "height": 293
        },
        "outputId": "ac32f9e4-175f-4765-e08a-f16d7c5e0cfe"
      },
      "source": [
        "reviews = pd.DataFrame.from_dict(data)\n",
        "reviews.head()"
      ],
      "execution_count": null,
      "outputs": [
        {
          "output_type": "execute_result",
          "data": {
            "text/html": [
              "<div>\n",
              "<style scoped>\n",
              "    .dataframe tbody tr th:only-of-type {\n",
              "        vertical-align: middle;\n",
              "    }\n",
              "\n",
              "    .dataframe tbody tr th {\n",
              "        vertical-align: top;\n",
              "    }\n",
              "\n",
              "    .dataframe thead th {\n",
              "        text-align: right;\n",
              "    }\n",
              "</style>\n",
              "<table border=\"1\" class=\"dataframe\">\n",
              "  <thead>\n",
              "    <tr style=\"text-align: right;\">\n",
              "      <th></th>\n",
              "      <th>reviewerID</th>\n",
              "      <th>asin</th>\n",
              "      <th>reviewerName</th>\n",
              "      <th>helpful</th>\n",
              "      <th>reviewText</th>\n",
              "      <th>overall</th>\n",
              "      <th>summary</th>\n",
              "      <th>unixReviewTime</th>\n",
              "      <th>reviewTime</th>\n",
              "    </tr>\n",
              "  </thead>\n",
              "  <tbody>\n",
              "    <tr>\n",
              "      <th>0</th>\n",
              "      <td>A30TL5EWN6DFXT</td>\n",
              "      <td>120401325X</td>\n",
              "      <td>christina</td>\n",
              "      <td>[0, 0]</td>\n",
              "      <td>They look good and stick good! I just don't li...</td>\n",
              "      <td>4.0</td>\n",
              "      <td>Looks Good</td>\n",
              "      <td>1400630400</td>\n",
              "      <td>05 21, 2014</td>\n",
              "    </tr>\n",
              "    <tr>\n",
              "      <th>1</th>\n",
              "      <td>ASY55RVNIL0UD</td>\n",
              "      <td>120401325X</td>\n",
              "      <td>emily l.</td>\n",
              "      <td>[0, 0]</td>\n",
              "      <td>These stickers work like the review says they ...</td>\n",
              "      <td>5.0</td>\n",
              "      <td>Really great product.</td>\n",
              "      <td>1389657600</td>\n",
              "      <td>01 14, 2014</td>\n",
              "    </tr>\n",
              "    <tr>\n",
              "      <th>2</th>\n",
              "      <td>A2TMXE2AFO7ONB</td>\n",
              "      <td>120401325X</td>\n",
              "      <td>Erica</td>\n",
              "      <td>[0, 0]</td>\n",
              "      <td>These are awesome and make my phone look so st...</td>\n",
              "      <td>5.0</td>\n",
              "      <td>LOVE LOVE LOVE</td>\n",
              "      <td>1403740800</td>\n",
              "      <td>06 26, 2014</td>\n",
              "    </tr>\n",
              "    <tr>\n",
              "      <th>3</th>\n",
              "      <td>AWJ0WZQYMYFQ4</td>\n",
              "      <td>120401325X</td>\n",
              "      <td>JM</td>\n",
              "      <td>[4, 4]</td>\n",
              "      <td>Item arrived in great time and was in perfect ...</td>\n",
              "      <td>4.0</td>\n",
              "      <td>Cute!</td>\n",
              "      <td>1382313600</td>\n",
              "      <td>10 21, 2013</td>\n",
              "    </tr>\n",
              "    <tr>\n",
              "      <th>4</th>\n",
              "      <td>ATX7CZYFXI1KW</td>\n",
              "      <td>120401325X</td>\n",
              "      <td>patrice m rogoza</td>\n",
              "      <td>[2, 3]</td>\n",
              "      <td>awesome! stays on, and looks great. can be use...</td>\n",
              "      <td>5.0</td>\n",
              "      <td>leopard home button sticker for iphone 4s</td>\n",
              "      <td>1359849600</td>\n",
              "      <td>02 3, 2013</td>\n",
              "    </tr>\n",
              "  </tbody>\n",
              "</table>\n",
              "</div>"
            ],
            "text/plain": [
              "       reviewerID        asin  ... unixReviewTime   reviewTime\n",
              "0  A30TL5EWN6DFXT  120401325X  ...     1400630400  05 21, 2014\n",
              "1   ASY55RVNIL0UD  120401325X  ...     1389657600  01 14, 2014\n",
              "2  A2TMXE2AFO7ONB  120401325X  ...     1403740800  06 26, 2014\n",
              "3   AWJ0WZQYMYFQ4  120401325X  ...     1382313600  10 21, 2013\n",
              "4   ATX7CZYFXI1KW  120401325X  ...     1359849600   02 3, 2013\n",
              "\n",
              "[5 rows x 9 columns]"
            ]
          },
          "metadata": {
            "tags": []
          },
          "execution_count": 4
        }
      ]
    },
    {
      "cell_type": "code",
      "metadata": {
        "id": "m1QOltVBuB6e"
      },
      "source": [
        "regex = re.compile('[^a-z]+')\n",
        "def cleanup(sentence):\n",
        "    sentence = sentence.lower()\n",
        "    sentence = regex.sub(' ', sentence).strip()\n",
        "    sentence = \" \".join(nltk.word_tokenize(sentence))\n",
        "    return sentence"
      ],
      "execution_count": null,
      "outputs": []
    },
    {
      "cell_type": "code",
      "metadata": {
        "id": "_dp6XPbqvUII",
        "colab": {
          "base_uri": "https://localhost:8080/",
          "height": 328
        },
        "outputId": "3982bb73-e09a-48b1-b905-745905177e51"
      },
      "source": [
        "import nltk\n",
        "nltk.download('punkt')\n",
        "reviews[\"reviewText\"] = reviews[\"reviewText\"].apply(cleanup) #reviews[\"summary\"].apply(cleanup)\n",
        "reviews[:5]"
      ],
      "execution_count": null,
      "outputs": [
        {
          "output_type": "stream",
          "text": [
            "[nltk_data] Downloading package punkt to /root/nltk_data...\n",
            "[nltk_data]   Unzipping tokenizers/punkt.zip.\n"
          ],
          "name": "stdout"
        },
        {
          "output_type": "execute_result",
          "data": {
            "text/html": [
              "<div>\n",
              "<style scoped>\n",
              "    .dataframe tbody tr th:only-of-type {\n",
              "        vertical-align: middle;\n",
              "    }\n",
              "\n",
              "    .dataframe tbody tr th {\n",
              "        vertical-align: top;\n",
              "    }\n",
              "\n",
              "    .dataframe thead th {\n",
              "        text-align: right;\n",
              "    }\n",
              "</style>\n",
              "<table border=\"1\" class=\"dataframe\">\n",
              "  <thead>\n",
              "    <tr style=\"text-align: right;\">\n",
              "      <th></th>\n",
              "      <th>reviewerID</th>\n",
              "      <th>asin</th>\n",
              "      <th>reviewerName</th>\n",
              "      <th>helpful</th>\n",
              "      <th>reviewText</th>\n",
              "      <th>overall</th>\n",
              "      <th>summary</th>\n",
              "      <th>unixReviewTime</th>\n",
              "      <th>reviewTime</th>\n",
              "    </tr>\n",
              "  </thead>\n",
              "  <tbody>\n",
              "    <tr>\n",
              "      <th>0</th>\n",
              "      <td>A30TL5EWN6DFXT</td>\n",
              "      <td>120401325X</td>\n",
              "      <td>christina</td>\n",
              "      <td>[0, 0]</td>\n",
              "      <td>they look good and stick good i just don t lik...</td>\n",
              "      <td>4.0</td>\n",
              "      <td>Looks Good</td>\n",
              "      <td>1400630400</td>\n",
              "      <td>05 21, 2014</td>\n",
              "    </tr>\n",
              "    <tr>\n",
              "      <th>1</th>\n",
              "      <td>ASY55RVNIL0UD</td>\n",
              "      <td>120401325X</td>\n",
              "      <td>emily l.</td>\n",
              "      <td>[0, 0]</td>\n",
              "      <td>these stickers work like the review says they ...</td>\n",
              "      <td>5.0</td>\n",
              "      <td>Really great product.</td>\n",
              "      <td>1389657600</td>\n",
              "      <td>01 14, 2014</td>\n",
              "    </tr>\n",
              "    <tr>\n",
              "      <th>2</th>\n",
              "      <td>A2TMXE2AFO7ONB</td>\n",
              "      <td>120401325X</td>\n",
              "      <td>Erica</td>\n",
              "      <td>[0, 0]</td>\n",
              "      <td>these are awesome and make my phone look so st...</td>\n",
              "      <td>5.0</td>\n",
              "      <td>LOVE LOVE LOVE</td>\n",
              "      <td>1403740800</td>\n",
              "      <td>06 26, 2014</td>\n",
              "    </tr>\n",
              "    <tr>\n",
              "      <th>3</th>\n",
              "      <td>AWJ0WZQYMYFQ4</td>\n",
              "      <td>120401325X</td>\n",
              "      <td>JM</td>\n",
              "      <td>[4, 4]</td>\n",
              "      <td>item arrived in great time and was in perfect ...</td>\n",
              "      <td>4.0</td>\n",
              "      <td>Cute!</td>\n",
              "      <td>1382313600</td>\n",
              "      <td>10 21, 2013</td>\n",
              "    </tr>\n",
              "    <tr>\n",
              "      <th>4</th>\n",
              "      <td>ATX7CZYFXI1KW</td>\n",
              "      <td>120401325X</td>\n",
              "      <td>patrice m rogoza</td>\n",
              "      <td>[2, 3]</td>\n",
              "      <td>awesome stays on and looks great can be used o...</td>\n",
              "      <td>5.0</td>\n",
              "      <td>leopard home button sticker for iphone 4s</td>\n",
              "      <td>1359849600</td>\n",
              "      <td>02 3, 2013</td>\n",
              "    </tr>\n",
              "  </tbody>\n",
              "</table>\n",
              "</div>"
            ],
            "text/plain": [
              "       reviewerID        asin  ... unixReviewTime   reviewTime\n",
              "0  A30TL5EWN6DFXT  120401325X  ...     1400630400  05 21, 2014\n",
              "1   ASY55RVNIL0UD  120401325X  ...     1389657600  01 14, 2014\n",
              "2  A2TMXE2AFO7ONB  120401325X  ...     1403740800  06 26, 2014\n",
              "3   AWJ0WZQYMYFQ4  120401325X  ...     1382313600  10 21, 2013\n",
              "4   ATX7CZYFXI1KW  120401325X  ...     1359849600   02 3, 2013\n",
              "\n",
              "[5 rows x 9 columns]"
            ]
          },
          "metadata": {
            "tags": []
          },
          "execution_count": 6
        }
      ]
    },
    {
      "cell_type": "code",
      "metadata": {
        "id": "_uUl52Eqvcgu"
      },
      "source": [
        "count = reviews.groupby(\"asin\", as_index=False).count()\n",
        "mean = reviews.groupby(\"asin\", as_index=False).mean()"
      ],
      "execution_count": null,
      "outputs": []
    },
    {
      "cell_type": "code",
      "metadata": {
        "id": "DP7QJACZv7AP"
      },
      "source": [
        "reviews_temp = pd.merge(reviews, count, how='right', on=['asin'])\n",
        "reviews_temp = pd.merge(reviews_temp, mean, how='right', on=['asin'])"
      ],
      "execution_count": null,
      "outputs": []
    },
    {
      "cell_type": "code",
      "metadata": {
        "id": "SpmRqXKPv_jf",
        "colab": {
          "base_uri": "https://localhost:8080/",
          "height": 521
        },
        "outputId": "437d2fdf-0e2b-47ef-b73a-fb6ab6e09ec4"
      },
      "source": [
        "reviews_temp[:5]"
      ],
      "execution_count": null,
      "outputs": [
        {
          "output_type": "execute_result",
          "data": {
            "text/html": [
              "<div>\n",
              "<style scoped>\n",
              "    .dataframe tbody tr th:only-of-type {\n",
              "        vertical-align: middle;\n",
              "    }\n",
              "\n",
              "    .dataframe tbody tr th {\n",
              "        vertical-align: top;\n",
              "    }\n",
              "\n",
              "    .dataframe thead th {\n",
              "        text-align: right;\n",
              "    }\n",
              "</style>\n",
              "<table border=\"1\" class=\"dataframe\">\n",
              "  <thead>\n",
              "    <tr style=\"text-align: right;\">\n",
              "      <th></th>\n",
              "      <th>reviewerID_x</th>\n",
              "      <th>asin</th>\n",
              "      <th>reviewerName_x</th>\n",
              "      <th>helpful_x</th>\n",
              "      <th>reviewText_x</th>\n",
              "      <th>overall_x</th>\n",
              "      <th>summary_x</th>\n",
              "      <th>unixReviewTime_x</th>\n",
              "      <th>reviewTime_x</th>\n",
              "      <th>reviewerID_y</th>\n",
              "      <th>reviewerName_y</th>\n",
              "      <th>helpful_y</th>\n",
              "      <th>reviewText_y</th>\n",
              "      <th>overall_y</th>\n",
              "      <th>summary_y</th>\n",
              "      <th>unixReviewTime_y</th>\n",
              "      <th>reviewTime_y</th>\n",
              "      <th>overall</th>\n",
              "      <th>unixReviewTime</th>\n",
              "    </tr>\n",
              "  </thead>\n",
              "  <tbody>\n",
              "    <tr>\n",
              "      <th>0</th>\n",
              "      <td>A30TL5EWN6DFXT</td>\n",
              "      <td>120401325X</td>\n",
              "      <td>christina</td>\n",
              "      <td>[0, 0]</td>\n",
              "      <td>they look good and stick good i just don t lik...</td>\n",
              "      <td>4.0</td>\n",
              "      <td>Looks Good</td>\n",
              "      <td>1400630400</td>\n",
              "      <td>05 21, 2014</td>\n",
              "      <td>7</td>\n",
              "      <td>7</td>\n",
              "      <td>7</td>\n",
              "      <td>7</td>\n",
              "      <td>7</td>\n",
              "      <td>7</td>\n",
              "      <td>7</td>\n",
              "      <td>7</td>\n",
              "      <td>4.428571</td>\n",
              "      <td>1.384980e+09</td>\n",
              "    </tr>\n",
              "    <tr>\n",
              "      <th>1</th>\n",
              "      <td>ASY55RVNIL0UD</td>\n",
              "      <td>120401325X</td>\n",
              "      <td>emily l.</td>\n",
              "      <td>[0, 0]</td>\n",
              "      <td>these stickers work like the review says they ...</td>\n",
              "      <td>5.0</td>\n",
              "      <td>Really great product.</td>\n",
              "      <td>1389657600</td>\n",
              "      <td>01 14, 2014</td>\n",
              "      <td>7</td>\n",
              "      <td>7</td>\n",
              "      <td>7</td>\n",
              "      <td>7</td>\n",
              "      <td>7</td>\n",
              "      <td>7</td>\n",
              "      <td>7</td>\n",
              "      <td>7</td>\n",
              "      <td>4.428571</td>\n",
              "      <td>1.384980e+09</td>\n",
              "    </tr>\n",
              "    <tr>\n",
              "      <th>2</th>\n",
              "      <td>A2TMXE2AFO7ONB</td>\n",
              "      <td>120401325X</td>\n",
              "      <td>Erica</td>\n",
              "      <td>[0, 0]</td>\n",
              "      <td>these are awesome and make my phone look so st...</td>\n",
              "      <td>5.0</td>\n",
              "      <td>LOVE LOVE LOVE</td>\n",
              "      <td>1403740800</td>\n",
              "      <td>06 26, 2014</td>\n",
              "      <td>7</td>\n",
              "      <td>7</td>\n",
              "      <td>7</td>\n",
              "      <td>7</td>\n",
              "      <td>7</td>\n",
              "      <td>7</td>\n",
              "      <td>7</td>\n",
              "      <td>7</td>\n",
              "      <td>4.428571</td>\n",
              "      <td>1.384980e+09</td>\n",
              "    </tr>\n",
              "    <tr>\n",
              "      <th>3</th>\n",
              "      <td>AWJ0WZQYMYFQ4</td>\n",
              "      <td>120401325X</td>\n",
              "      <td>JM</td>\n",
              "      <td>[4, 4]</td>\n",
              "      <td>item arrived in great time and was in perfect ...</td>\n",
              "      <td>4.0</td>\n",
              "      <td>Cute!</td>\n",
              "      <td>1382313600</td>\n",
              "      <td>10 21, 2013</td>\n",
              "      <td>7</td>\n",
              "      <td>7</td>\n",
              "      <td>7</td>\n",
              "      <td>7</td>\n",
              "      <td>7</td>\n",
              "      <td>7</td>\n",
              "      <td>7</td>\n",
              "      <td>7</td>\n",
              "      <td>4.428571</td>\n",
              "      <td>1.384980e+09</td>\n",
              "    </tr>\n",
              "    <tr>\n",
              "      <th>4</th>\n",
              "      <td>ATX7CZYFXI1KW</td>\n",
              "      <td>120401325X</td>\n",
              "      <td>patrice m rogoza</td>\n",
              "      <td>[2, 3]</td>\n",
              "      <td>awesome stays on and looks great can be used o...</td>\n",
              "      <td>5.0</td>\n",
              "      <td>leopard home button sticker for iphone 4s</td>\n",
              "      <td>1359849600</td>\n",
              "      <td>02 3, 2013</td>\n",
              "      <td>7</td>\n",
              "      <td>7</td>\n",
              "      <td>7</td>\n",
              "      <td>7</td>\n",
              "      <td>7</td>\n",
              "      <td>7</td>\n",
              "      <td>7</td>\n",
              "      <td>7</td>\n",
              "      <td>4.428571</td>\n",
              "      <td>1.384980e+09</td>\n",
              "    </tr>\n",
              "  </tbody>\n",
              "</table>\n",
              "</div>"
            ],
            "text/plain": [
              "     reviewerID_x        asin  ...   overall unixReviewTime\n",
              "0  A30TL5EWN6DFXT  120401325X  ...  4.428571   1.384980e+09\n",
              "1   ASY55RVNIL0UD  120401325X  ...  4.428571   1.384980e+09\n",
              "2  A2TMXE2AFO7ONB  120401325X  ...  4.428571   1.384980e+09\n",
              "3   AWJ0WZQYMYFQ4  120401325X  ...  4.428571   1.384980e+09\n",
              "4   ATX7CZYFXI1KW  120401325X  ...  4.428571   1.384980e+09\n",
              "\n",
              "[5 rows x 19 columns]"
            ]
          },
          "metadata": {
            "tags": []
          },
          "execution_count": 9
        }
      ]
    },
    {
      "cell_type": "code",
      "metadata": {
        "id": "d3Biixg4wCb3"
      },
      "source": [
        "reviews_temp[\"Count\"] = reviews_temp[\"reviewerID_y\"]\n",
        "reviews_temp[\"Score\"] = reviews_temp[\"overall\"]\n",
        "reviews_temp[\"Summary\"] = reviews_temp[\"reviewText_x\"]\n",
        "reviews_temp[\"ProductID\"] = reviews_temp[\"asin\"]"
      ],
      "execution_count": null,
      "outputs": []
    },
    {
      "cell_type": "code",
      "metadata": {
        "id": "NyRkVl1TwMvS"
      },
      "source": [
        "reviews_temp = reviews_temp[['ProductID','Summary','Score',\"Count\"]]"
      ],
      "execution_count": null,
      "outputs": []
    },
    {
      "cell_type": "code",
      "metadata": {
        "id": "KOipsSj9wQLf"
      },
      "source": [
        "reviews[\"ProductID\"] = reviews[\"asin\"]\n",
        "reviews1 = reviews.groupby(\"ProductID\", as_index=False).mean()\n",
        "combine_summary = reviews_temp.groupby(\"ProductID\")[\"Summary\"].apply(list)\n",
        "combine_summary = pd.DataFrame(combine_summary)"
      ],
      "execution_count": null,
      "outputs": []
    },
    {
      "cell_type": "code",
      "metadata": {
        "id": "I0xHCZf8wfVU"
      },
      "source": [
        "combine_summary = pd.merge(combine_summary, reviews_temp, on=\"ProductID\", how='inner')\n",
        "combine_summary = combine_summary[['ProductID','Summary_x','Score']]"
      ],
      "execution_count": null,
      "outputs": []
    },
    {
      "cell_type": "code",
      "metadata": {
        "id": "29sVBkcYwsKr"
      },
      "source": [
        "combine_summary = combine_summary.drop_duplicates(['Score'], keep='last')\n",
        "combine_summary = combine_summary.reset_index()"
      ],
      "execution_count": null,
      "outputs": []
    },
    {
      "cell_type": "code",
      "metadata": {
        "id": "0Qqie-SowqWu",
        "colab": {
          "base_uri": "https://localhost:8080/",
          "height": 1000
        },
        "outputId": "7b060149-d56b-4ea2-e8c8-68f7c9e08d39"
      },
      "source": [
        "combine_summary[\"Summary_x\"][0]"
      ],
      "execution_count": null,
      "outputs": [
        {
          "output_type": "execute_result",
          "data": {
            "text/plain": [
              "['before buying this set i searched a lot and did read a lot of reviews and finally i chose to go with this set the screwdrivers are very easy to use specially with iphones i had to change the batterry on my iphone and if stanley screwdriver set was not there i was about to break my iphone thanks for making this set so helpful and easy to use',\n",
              " 'handy little set to have around if you tinker with electronic devices this set has many uses for otherthings also product is as described and price is right i recommend everyone having a set',\n",
              " 'i bought this set to fix a pair of eyeglasses that had loose screws the smallest screwdriver in this kit was perfect for that job so mission accomplished the tops of each screwdriver twirls independently from the shaft meaning you can keep a finger on top of the head to stabilize the driver while you re screwing sorry there s no other way to say that the box suggests these screwdrivers can be used for repairing eyeglasses cameras watches fishing reels hobbies electronics and small appliances i think this set will come in very handy',\n",
              " 'screwdrivers work well however plastic separator tool tip broke off on the first phone case i used it to open what a drag',\n",
              " 'i like them but they are not super duty materials works great for the application but when i was dismantling a hard drive one of them stripped im not too concerned because of the price over all good value',\n",
              " 'the one plastic wedge broke on first use otherwise it is about what i expected a usable set of tools for phones and some laptops',\n",
              " 'the torx screw drivers work wonderfully and the tweezers work well but the pry tool is too weak and ineffectual for the project i used them on i bought this kit to remove the cameras out of my htc g lte and i didn t have any problems except for removing the small plastic portion on the bottom rear side of the phone the pry tool was way too flimsy for the job and i m not convinced that it would do the trick for any similar function i d recommend this kit if you primarily purchased it for the torx drivers but not if you require the use of the pry tool as well',\n",
              " 'this comes with flats and philips i believe they are also metric in sizes i used one to take a part a netbook i like the fact that they spin come in a plastic kit they are reasonably priced these items are high quality handles are small and can be hard to loosen a screw if torqued down i used them for a laptop not as a jeweler so nice case nice color small area comes in a card board cover as well packaged and more packaged a little over doing it there can t be at times a little difficult to open the plastic case was going push up or down comes with different sizes some of the flats seemed a little thick in the blade not a bad item for the price always good to have a set of these around for glasses sunglasses or for other items with small screws',\n",
              " 'i had to replace the battery on my phone cause it had gone completely flat apple was charging a lot and this battery did the job perfectly for a lot cheaper and came with the tools',\n",
              " 'installation was easy and the tool kit worked though the plastic tools are no the robust and will break if you tweak on them too much the paper foil was coming off the battery when i open the package but folding back in place worked once it s in the phone it is not an issue so far the phone charges fast and the life is much better than the year old battery it replaced so far i would recommend this battery update weeks after installing this battery is would only last hours and that was barely using the iphone with no voice calls at all during that time and no extra heavy use of the internet or anything drained it and charged from dead several times made sure that location services blue tooth apps closed all off and still drained got my money back and bought one for the price and that one works great maybe i just got a defective battery a risk we all take when buying these rd party batteries',\n",
              " 'plastic pry tool kinda sucks but all the other tools in the kit are quite handy helped me fix a broken screen on a phone so saved a bit of cheddar there',\n",
              " 'the tools helped greatly i used the tools it provided and followed the instruction video on youtube everything was done in about mins for a beginner like me the battery which replaced my year old original one works well so far after about one and half months it gets charged very quickly and lasted very long for average user like me the battery last for about hours every full charge',\n",
              " 'wish it was magnetized but it s sturdy has the common pieces i need when i m working on smaller items or electronics seems sturdy though only time will tell',\n",
              " 'bought tool kit to do a battery upgrade on my cell phone since it has an embedded battery i needed to take the phone apart like the saying goes when you got the right tools things go a lot easier most of the time',\n",
              " 'used this in a phone i repaired battery fit perfectly and seemed to work fine phone was on percent left it for two days then i checked and it was on seems legit',\n",
              " 'i haven t used them all yet but they aren t as quality as some of my precision tools like the pry tool and tweezers',\n",
              " 'i must agree with gary tuscon s review for under even though the smallest flat head screwdriver in here is mm too large for the screws that hold the links on a seiko women s watchband the quality is such that i will keep them the case is very good and labeled very clearly the screwdrivers have a decent weight as well and the handles turn smoothy if these came in smaller sizes with tempered tips that smaller sized tools need to be strong i would definitely consider them as well if i had one minor nitpick it would be that a color coding of the handles would be a great help but really this is an excellent value for the price',\n",
              " 'these tools gets the job done had no problem i was able to finish less than a hour going to also buy two more for my friends great deal and quality product quick and fast thanks',\n",
              " 'very pleased with this tool kit i have already gotten a couple phones repaired with this kit with no loss anywhere in the kit would purchase again if necessary',\n",
              " 'this set has some very unique screw driver heads the kind of set you need for working on cell phones or household small appliances you would have a hard time finding some of them',\n",
              " 'the torx is the only real useful tool in here for the evo g not a big fan just use a credit card instead',\n",
              " 'seem to be high quality compare with the cost have every thing i needed or more to open my motorola droid',\n",
              " 'i should ve ordered at least two sets these come in handy for a lot of things home workplace etc and as soon as others know you have them they need to borrow keep you eye on them great tool for a lot of little projects fair price',\n",
              " 'these tools are better than expected the handles are hard plastic but fit my hand nicely and the the rotating tops work well the tweezer ends match perfectly so they pick up small parts with ease similarly the driver tips are well machined and accurately sized only the plastic prying tool seems a bit flimsy but it nevertheless held up to some hard prying without breaking in all a good deal and i m ordering a second set this evening',\n",
              " 'needed for my razr cellphone to change the internal battery more tiny screwdrivers than i ll ever use but are of good quality for what i needed',\n",
              " 'seeing is how the star reviews on this item are from fake users who seem to be trash talking other iphone battery sellers and staring there own is pretty messed up so therefore it appears this seller is some type of scammer',\n",
              " 'after viewing some youtube videos on this procedure i was able to swap the battery in about hour which included taking pictures and studying the insides of the iphone s the tools are good enough to get the job done i never felt that the tools were going to fall apart in fact i m keeping them around for other mobile phone work the only thing i d recommend esp for older folks with not so good eyesight is a good way to magnify things so you can see what you re doing i use a big magnifying glass x reading glasses x would be better a headlamp to add light where i need it',\n",
              " 'pros good tool set if you need to take things apart cons they came in a plastic bag no case they re extremely flimsy plastic that makes me feel like if i use them over times they re going to break i don t recommend this at all and would recommend you buy something other than this',\n",
              " 'judging from what i ve seen in other reviews and what i received there is inconsistency in what is being shipped out i received a zip lock bag containing pieces see user uploaded photo that matches the description below torx type drivers magnetic tip t t t t t t orange handle with blue cap philips driver magnetic tip black handle flat driver magnetic tip black handle point driver magnetic tip clear red handle tweezers stainless steel on blister packs pry tool dark green i purchased this set to do some work on a droid x mb and they did the job well enough except i had to carefully use the t instead of a t very carefully on screws holding the screen assembly together i ll give it a star rating it s ok',\n",
              " 'battery would not charge in iphone iphone shut down after minutes of being powered up had to throw it away',\n",
              " 'i bought these tool to us for repairing my nephews iphone but non of them were the right size so if you buying them for the iphone don t buy these',\n",
              " 'does not fit the s so make sure you are ordering the right one you will need tools so i suggest you get one with tools',\n",
              " 'i had to pop open my samsung galaxy s to fix it up but none of the tools i had worked or fit these worked perfectly and fit the screws and took it apart with ease compact and easy to carry around it arrived on time and in good shape thanks',\n",
              " 'worked great',\n",
              " 'i use these for electronics repairs there are several sizes and configurations to meet various needs the most helpful thing about them is the independently turning barrel which allows you to apply pressure on the end of the tool and easily turn the barrel screw right or left they may not be the best tools on the market but they have served me well',\n",
              " 'these are all torx drivers there is no flathead or phillips in this set which is going back to amazon today',\n",
              " 'nothing too special over here just some screwdrivers seem to hold up well i used them on my g shock band and they worked and didn t strip so i was pleased',\n",
              " 'i got this to try and replace a screen found out i m not a phone repair person it did have what i needed lacking skill needed to do the job i can replace my hard drive in my home computer and add memory this takes allot more skill if you have the skill the tools are great and very complete i had everything the video said i needed minus the skill',\n",
              " 'very helpful and good quality',\n",
              " 'i rate this stars love this product great price and quality love how it works with my iphone and it comes with a lot of tools which is great in case you misplace one of them',\n",
              " 'it has a lot of what i need to do basic repairs on a phone but it is bare bones',\n",
              " 'could have been better for the price and wait time of the drivers are labeled as a but are clearly different sizes also the wear kinda fast if working with tight screws',\n",
              " 'very fast delivery product is as described and useful tool if you need a set of these this is a good one',\n",
              " 'i use these mostly for electronics repair and they get they job done great for phone repair or and small electronics',\n",
              " 'i watched a short video on you tube then ordered this kit i changed the battery in just a few minutes amazingly simple all the tools you need are here the star screw driver is the only thing thats not really standard but here its all in one place just do it',\n",
              " 'you may not need these types of screwdrivers often but when you do need them nothing else will do they re great for tightening eyeglass screws or opening up the cases of small electronic devices this is a nice set it comes with slotted and philips style in a variety of sizes they seem to be well made and i suspect that they last a long time the swivel heads allow you to put downward pressure on the screwdriver as you turn it to minimize the risk of stripping the head on delicate small screws the case has a labeled space for each screwdriver it s your typical plastic case with a snap top and should hold up as long as you don t step on it or drop something on it this set is a nice value for the price',\n",
              " 'it is chinesse like almost everything in this world lol but they are really well done and for the price they are a bargain the screw drivers have a free rolling top to make pressure and the body is rellay good nice grip and lobules ergonomics the pliers are just as good as you can get no problems with them and good finish on the edges not like razors like othersthe prying tool is just what you need for almost any device you want to tear apart besides the ipad they have enough strenght to pry out plastics and even aluminun bodys of smartphones there is to mini screwdriver a flat an a phillips i use them for electronics overall pretty satisfied i would buy another one later on',\n",
              " 'really poor quality tweezer bent like nothing screw drivers made of cheap plastic adhesive removing tool again cheap plastic you get what you pay for would not recommend to anyone who is trying to perform phone surgery',\n",
              " 'not the best ive purchased but it came with the right size for iphone but the ones with the yellow handles are really just different sizes for a star screw and none of them fits the iphone star screw you can always use it for another gadget though',\n",
              " 'once or twice a month you need a smaller screwdriver than your always handy six in one this setfills the bill nicely when you need it you need it a must have',\n",
              " 'this item came in a timely matter and fit the descrition the only thing that the plastic broke a little to easily but other than that every thing else is good',\n",
              " 'nothing fancy but is extremely useful when you need it love the tweezers and the big writing telling me which tool is which size took a while weeks i d guess but was worth the wait i d easily recommend them',\n",
              " 'i received it today and it doesn t charge i m sure it is used i found a piece of broken iphone glass on the contact side',\n",
              " 'like others have said here the screwdriver set is solid and good quality and will last forever the issue of course here is that the screwdrivers are not a true jewelers set and will be too big for most jewelry watch related tasks so if you are looking for that type of set this isnt the one to use',\n",
              " 'it s so i don t know if i m asking too much the screw drivers work and are slightly magnetized the prying tool is completely junk and broke before i had even finished my task a guitar pick is much more durable the tweezers are also worthless get them for the screwdrivers not for the other tools',\n",
              " 'i needed a new screwdriver set to work on laptops with as most of my old ones have mysteriously disappeared at the price there was no way i was going to beat a set of stanleys the best part so far to me is that they come already magnetized i put them to use the day i received them and am quite happy with them',\n",
              " 'i purchased this battery to replace a water soaked one in an iphone i don t even know if it is charging or not as the unit won t turn on for me the shipping is prompt the packaging great and the description is accurate',\n",
              " 'now i have it i can carry it with me and always have the perfect size tool for the little things that go wrong',\n",
              " 'i have used this kit to fix a bunch of cell phones and price is right and tools work great',\n",
              " 'i m sure that there is something that says it will not come as pictured but still i was disappointed the tools helped me get the job done but they also did not hold up well the plastic plying tools bent and broke fairly quickly i can t say that it wasn t user error but they seemed very cheap',\n",
              " 'i bought this for my wife s year old iphone s she said it seemed to work about the same or a little better than the old battery not a huge improvement but an acceptable replacement if you need a new battery',\n",
              " 'this review is for the iphone battery and tool set i realize now that the company is selling several different items under the same listing so the reviews can be confusing and not accurate like many other power users i e slaves of their iphones i came to the end of the usefulness for my iphone s internal battery after lamenting on whether or not to buy some of the cheaper options available i went with the you get what you pay for cliche and paid for the extra assurance that i was not getting a cheap knockoff the battery i received had a manufacturer date only a few months from when i ordered the piece who knows how accurate that is but if you re taking it at face value i find certain comfort knowing that my battery hasn t been sitting on the shelf losing it s potential usefulness in holding a charge for my crushing of candies after successfully opening my phone i can confirm that all the labeling and signage match exactly to what is on the original battery in my phone any copycat can do this but it gives me hope that this new battery comes from the same manufacturers as the oem battery the tools worked just fine for me i was able to pry the top glass of my phone off by using the tools provided in the kit do some extra research around properly removing the battery use the clear plastic sheet under the battery to help lift it up and separate from the adhesive that was the most challenging part of my battery replacement after two months of use i can make it through the whole day after heavy phone use without looking for a charger my life is complete again',\n",
              " 'this is a good buy if it is what you are wanting i misread the product info and did not realize this is all torx screwdrivers',\n",
              " 'this was a great deal easy to install and a direct fit replacement for the iphone s does what it should and hopefully it will last',\n",
              " 'i fix my own phones and tab and mac computers desk top and laptop and ipad s so having the right tools are very important to me the price was the thing that did it for me great price',\n",
              " 'purchased this to remove screws on my samsung galaxy sii but even the smallest tool in the set was too large',\n",
              " 'i bought this set and have repaired my android a few times already and it s a must have tool set when working on such small electronics',\n",
              " 'great tools i still use them and i like the quality great price as well good vendor i would buy more',\n",
              " 'this tool set is better than expected the machining and finish is very good if used for small electronics and similar applications this set should be durable',\n",
              " 'not bad but too little things inside is incomplete and the bad use of hexagonal but it is ok thanks',\n",
              " 'this was a great deal for the set high quality materials at a low price i would recommend this product to a friend',\n",
              " 'tools were required for opening gps ipod etc cases nice selection of sizes the plastic wedge tool is easily damaged a five star rating if it included a case i would have even paid extra for a case',\n",
              " 'the torx screwdrivers were great the tweesers were substandard and the spluger was very cheap mine broke the first time i used it for the price you can not expect high quality all in all it did the job',\n",
              " 'these were a supper price and while not supper strong they will do the job and you get a lot for your money',\n",
              " 'for the price you can not beat this little stanley screwdriver set this one features several very tiny standard and phillips head screwdrivers if you have a need for very small head screwdrivers this one is for you these are useful for messing with eyeglasses certain electronics gadgets and firearms i have several revolvers and pistols which have sight adjustments that have outrageously small adjustment screws for these sights this little kit is a must none of my other tools could manage to fit these screws but this one did that alone made it worth the amazon price and this little kit has a permanent place in my range shooting bag rjb',\n",
              " 'this tool repair kit is useful for repairs on a laptop smartphone eyeglasses and anything else with very small screws',\n",
              " 'had a mix up with getting the item and slow shipping but it was all resolved in the end so i am satisfied with the purchase',\n",
              " 'i really needed the torx driver tools to fix broken nexus back plate and this kit worked great i m really glad to have it around in case i need it again',\n",
              " 'i ordered this to replace my iphone battery i am a deployed soldier and now i have become the cell phone technition',\n",
              " 'the battery worked very well i used the screwdriver and the plastic pieces of the kit in replacement and the tips of the spudger get bent without hard use such as prying the old battery out still a great value in a diy kit to give new life to your tired iphone s',\n",
              " 'i tried two yes two batteries and had to send both back because both were crap i finally decided to spend a bit more hoping it would equate to more quality well that seems to have paid off third time s the charm i guess the battery itself replaced my old battery perfectly it holds a charge well and reads the correct battery percentage the included tools were a bonus i already had a set of tools from replacing my wife s battery a while back however these were much better the old tools i had were stripping the tiny screw heads this set of tools gripped the screw heads perfectly overall i m very happy',\n",
              " 'very handy tools i mostly use it when i have to fix soomething small like phones docks and other cool stuff',\n",
              " 'very nice quality set of screwdrivers they sell bigger sets on here for cheaper but made by a different company do not buy them if you want a quality precision set of drivers this is the company to go with',\n",
              " 'the tools are ok just not quite what i expected they were however better than the ones that came with the screen i ordered',\n",
              " 'got this to replace an iphone battery that was only useable when it was tethered now it holds full charge and is ready to go great oem repalcement the tools are nice enough to use again too',\n",
              " 'you get what you pay for they strip easily very cheaply made but i only needed them for a one time use and i didn t have to spend a bunch of money so i can t really complain but if you will need them more than once spend the money on good tools',\n",
              " 'i have never bought an actual set in a box before over the years i have just cobbled together an odd assortment of small screwdrivers this was well rated inexpensive and in a case it is all that i expected it works for me',\n",
              " 'good but if you plan to repair or take apart apple products this kit is completely useless and won t be worth it']"
            ]
          },
          "metadata": {
            "tags": []
          },
          "execution_count": 15
        }
      ]
    },
    {
      "cell_type": "markdown",
      "metadata": {
        "id": "JziraNuCyGQY"
      },
      "source": [
        ""
      ]
    },
    {
      "cell_type": "code",
      "metadata": {
        "id": "4q3asDiVH1iB"
      },
      "source": [
        "def extract_candidate_words(text, good_tags=set(['JJ','JJR','JJS','NN','NNP','NNS','NNPS'])):\n",
        "    import itertools, nltk, string\n",
        "\n",
        "    punct = set(string.punctuation)\n",
        "    stop_words = set(nltk.corpus.stopwords.words('english'))\n",
        "    tagged_words = itertools.chain.from_iterable(nltk.pos_tag_sents(nltk.word_tokenize(sent) for sent in nltk.sent_tokenize(text)))\n",
        "\n",
        "    candidates = [word.lower() for word, tag in tagged_words\n",
        "                  if tag in good_tags and word.lower() not in stop_words\n",
        "                  and not all(char in punct for char in word)]\n",
        "\n",
        "    return candidates"
      ],
      "execution_count": null,
      "outputs": []
    },
    {
      "cell_type": "code",
      "metadata": {
        "id": "2CbvKCiAIZqV",
        "colab": {
          "base_uri": "https://localhost:8080/",
          "height": 238
        },
        "outputId": "2843f442-9f10-4662-ab45-58953cf761a0"
      },
      "source": [
        "review_text = ''\n",
        "nltk.download('stopwords')\n",
        "nltk.download('averaged_perceptron_tagger')\n",
        "for i in combine_summary[\"Summary_x\"][0]:\n",
        "   review_text = review_text + ' ' + i\n",
        "#review_text=extract_candidate_words(review_text)\n",
        "review_text"
      ],
      "execution_count": null,
      "outputs": [
        {
          "output_type": "stream",
          "text": [
            "[nltk_data] Downloading package stopwords to /root/nltk_data...\n",
            "[nltk_data]   Unzipping corpora/stopwords.zip.\n",
            "[nltk_data] Downloading package averaged_perceptron_tagger to\n",
            "[nltk_data]     /root/nltk_data...\n",
            "[nltk_data]   Unzipping taggers/averaged_perceptron_tagger.zip.\n"
          ],
          "name": "stdout"
        },
        {
          "output_type": "execute_result",
          "data": {
            "application/vnd.google.colaboratory.intrinsic+json": {
              "type": "string"
            },
            "text/plain": [
              "' before buying this set i searched a lot and did read a lot of reviews and finally i chose to go with this set the screwdrivers are very easy to use specially with iphones i had to change the batterry on my iphone and if stanley screwdriver set was not there i was about to break my iphone thanks for making this set so helpful and easy to use handy little set to have around if you tinker with electronic devices this set has many uses for otherthings also product is as described and price is right i recommend everyone having a set i bought this set to fix a pair of eyeglasses that had loose screws the smallest screwdriver in this kit was perfect for that job so mission accomplished the tops of each screwdriver twirls independently from the shaft meaning you can keep a finger on top of the head to stabilize the driver while you re screwing sorry there s no other way to say that the box suggests these screwdrivers can be used for repairing eyeglasses cameras watches fishing reels hobbies electronics and small appliances i think this set will come in very handy screwdrivers work well however plastic separator tool tip broke off on the first phone case i used it to open what a drag i like them but they are not super duty materials works great for the application but when i was dismantling a hard drive one of them stripped im not too concerned because of the price over all good value the one plastic wedge broke on first use otherwise it is about what i expected a usable set of tools for phones and some laptops the torx screw drivers work wonderfully and the tweezers work well but the pry tool is too weak and ineffectual for the project i used them on i bought this kit to remove the cameras out of my htc g lte and i didn t have any problems except for removing the small plastic portion on the bottom rear side of the phone the pry tool was way too flimsy for the job and i m not convinced that it would do the trick for any similar function i d recommend this kit if you primarily purchased it for the torx drivers but not if you require the use of the pry tool as well this comes with flats and philips i believe they are also metric in sizes i used one to take a part a netbook i like the fact that they spin come in a plastic kit they are reasonably priced these items are high quality handles are small and can be hard to loosen a screw if torqued down i used them for a laptop not as a jeweler so nice case nice color small area comes in a card board cover as well packaged and more packaged a little over doing it there can t be at times a little difficult to open the plastic case was going push up or down comes with different sizes some of the flats seemed a little thick in the blade not a bad item for the price always good to have a set of these around for glasses sunglasses or for other items with small screws i had to replace the battery on my phone cause it had gone completely flat apple was charging a lot and this battery did the job perfectly for a lot cheaper and came with the tools installation was easy and the tool kit worked though the plastic tools are no the robust and will break if you tweak on them too much the paper foil was coming off the battery when i open the package but folding back in place worked once it s in the phone it is not an issue so far the phone charges fast and the life is much better than the year old battery it replaced so far i would recommend this battery update weeks after installing this battery is would only last hours and that was barely using the iphone with no voice calls at all during that time and no extra heavy use of the internet or anything drained it and charged from dead several times made sure that location services blue tooth apps closed all off and still drained got my money back and bought one for the price and that one works great maybe i just got a defective battery a risk we all take when buying these rd party batteries plastic pry tool kinda sucks but all the other tools in the kit are quite handy helped me fix a broken screen on a phone so saved a bit of cheddar there the tools helped greatly i used the tools it provided and followed the instruction video on youtube everything was done in about mins for a beginner like me the battery which replaced my year old original one works well so far after about one and half months it gets charged very quickly and lasted very long for average user like me the battery last for about hours every full charge wish it was magnetized but it s sturdy has the common pieces i need when i m working on smaller items or electronics seems sturdy though only time will tell bought tool kit to do a battery upgrade on my cell phone since it has an embedded battery i needed to take the phone apart like the saying goes when you got the right tools things go a lot easier most of the time used this in a phone i repaired battery fit perfectly and seemed to work fine phone was on percent left it for two days then i checked and it was on seems legit i haven t used them all yet but they aren t as quality as some of my precision tools like the pry tool and tweezers i must agree with gary tuscon s review for under even though the smallest flat head screwdriver in here is mm too large for the screws that hold the links on a seiko women s watchband the quality is such that i will keep them the case is very good and labeled very clearly the screwdrivers have a decent weight as well and the handles turn smoothy if these came in smaller sizes with tempered tips that smaller sized tools need to be strong i would definitely consider them as well if i had one minor nitpick it would be that a color coding of the handles would be a great help but really this is an excellent value for the price these tools gets the job done had no problem i was able to finish less than a hour going to also buy two more for my friends great deal and quality product quick and fast thanks very pleased with this tool kit i have already gotten a couple phones repaired with this kit with no loss anywhere in the kit would purchase again if necessary this set has some very unique screw driver heads the kind of set you need for working on cell phones or household small appliances you would have a hard time finding some of them the torx is the only real useful tool in here for the evo g not a big fan just use a credit card instead seem to be high quality compare with the cost have every thing i needed or more to open my motorola droid i should ve ordered at least two sets these come in handy for a lot of things home workplace etc and as soon as others know you have them they need to borrow keep you eye on them great tool for a lot of little projects fair price these tools are better than expected the handles are hard plastic but fit my hand nicely and the the rotating tops work well the tweezer ends match perfectly so they pick up small parts with ease similarly the driver tips are well machined and accurately sized only the plastic prying tool seems a bit flimsy but it nevertheless held up to some hard prying without breaking in all a good deal and i m ordering a second set this evening needed for my razr cellphone to change the internal battery more tiny screwdrivers than i ll ever use but are of good quality for what i needed seeing is how the star reviews on this item are from fake users who seem to be trash talking other iphone battery sellers and staring there own is pretty messed up so therefore it appears this seller is some type of scammer after viewing some youtube videos on this procedure i was able to swap the battery in about hour which included taking pictures and studying the insides of the iphone s the tools are good enough to get the job done i never felt that the tools were going to fall apart in fact i m keeping them around for other mobile phone work the only thing i d recommend esp for older folks with not so good eyesight is a good way to magnify things so you can see what you re doing i use a big magnifying glass x reading glasses x would be better a headlamp to add light where i need it pros good tool set if you need to take things apart cons they came in a plastic bag no case they re extremely flimsy plastic that makes me feel like if i use them over times they re going to break i don t recommend this at all and would recommend you buy something other than this judging from what i ve seen in other reviews and what i received there is inconsistency in what is being shipped out i received a zip lock bag containing pieces see user uploaded photo that matches the description below torx type drivers magnetic tip t t t t t t orange handle with blue cap philips driver magnetic tip black handle flat driver magnetic tip black handle point driver magnetic tip clear red handle tweezers stainless steel on blister packs pry tool dark green i purchased this set to do some work on a droid x mb and they did the job well enough except i had to carefully use the t instead of a t very carefully on screws holding the screen assembly together i ll give it a star rating it s ok battery would not charge in iphone iphone shut down after minutes of being powered up had to throw it away i bought these tool to us for repairing my nephews iphone but non of them were the right size so if you buying them for the iphone don t buy these does not fit the s so make sure you are ordering the right one you will need tools so i suggest you get one with tools i had to pop open my samsung galaxy s to fix it up but none of the tools i had worked or fit these worked perfectly and fit the screws and took it apart with ease compact and easy to carry around it arrived on time and in good shape thanks worked great i use these for electronics repairs there are several sizes and configurations to meet various needs the most helpful thing about them is the independently turning barrel which allows you to apply pressure on the end of the tool and easily turn the barrel screw right or left they may not be the best tools on the market but they have served me well these are all torx drivers there is no flathead or phillips in this set which is going back to amazon today nothing too special over here just some screwdrivers seem to hold up well i used them on my g shock band and they worked and didn t strip so i was pleased i got this to try and replace a screen found out i m not a phone repair person it did have what i needed lacking skill needed to do the job i can replace my hard drive in my home computer and add memory this takes allot more skill if you have the skill the tools are great and very complete i had everything the video said i needed minus the skill very helpful and good quality i rate this stars love this product great price and quality love how it works with my iphone and it comes with a lot of tools which is great in case you misplace one of them it has a lot of what i need to do basic repairs on a phone but it is bare bones could have been better for the price and wait time of the drivers are labeled as a but are clearly different sizes also the wear kinda fast if working with tight screws very fast delivery product is as described and useful tool if you need a set of these this is a good one i use these mostly for electronics repair and they get they job done great for phone repair or and small electronics i watched a short video on you tube then ordered this kit i changed the battery in just a few minutes amazingly simple all the tools you need are here the star screw driver is the only thing thats not really standard but here its all in one place just do it you may not need these types of screwdrivers often but when you do need them nothing else will do they re great for tightening eyeglass screws or opening up the cases of small electronic devices this is a nice set it comes with slotted and philips style in a variety of sizes they seem to be well made and i suspect that they last a long time the swivel heads allow you to put downward pressure on the screwdriver as you turn it to minimize the risk of stripping the head on delicate small screws the case has a labeled space for each screwdriver it s your typical plastic case with a snap top and should hold up as long as you don t step on it or drop something on it this set is a nice value for the price it is chinesse like almost everything in this world lol but they are really well done and for the price they are a bargain the screw drivers have a free rolling top to make pressure and the body is rellay good nice grip and lobules ergonomics the pliers are just as good as you can get no problems with them and good finish on the edges not like razors like othersthe prying tool is just what you need for almost any device you want to tear apart besides the ipad they have enough strenght to pry out plastics and even aluminun bodys of smartphones there is to mini screwdriver a flat an a phillips i use them for electronics overall pretty satisfied i would buy another one later on really poor quality tweezer bent like nothing screw drivers made of cheap plastic adhesive removing tool again cheap plastic you get what you pay for would not recommend to anyone who is trying to perform phone surgery not the best ive purchased but it came with the right size for iphone but the ones with the yellow handles are really just different sizes for a star screw and none of them fits the iphone star screw you can always use it for another gadget though once or twice a month you need a smaller screwdriver than your always handy six in one this setfills the bill nicely when you need it you need it a must have this item came in a timely matter and fit the descrition the only thing that the plastic broke a little to easily but other than that every thing else is good nothing fancy but is extremely useful when you need it love the tweezers and the big writing telling me which tool is which size took a while weeks i d guess but was worth the wait i d easily recommend them i received it today and it doesn t charge i m sure it is used i found a piece of broken iphone glass on the contact side like others have said here the screwdriver set is solid and good quality and will last forever the issue of course here is that the screwdrivers are not a true jewelers set and will be too big for most jewelry watch related tasks so if you are looking for that type of set this isnt the one to use it s so i don t know if i m asking too much the screw drivers work and are slightly magnetized the prying tool is completely junk and broke before i had even finished my task a guitar pick is much more durable the tweezers are also worthless get them for the screwdrivers not for the other tools i needed a new screwdriver set to work on laptops with as most of my old ones have mysteriously disappeared at the price there was no way i was going to beat a set of stanleys the best part so far to me is that they come already magnetized i put them to use the day i received them and am quite happy with them i purchased this battery to replace a water soaked one in an iphone i don t even know if it is charging or not as the unit won t turn on for me the shipping is prompt the packaging great and the description is accurate now i have it i can carry it with me and always have the perfect size tool for the little things that go wrong i have used this kit to fix a bunch of cell phones and price is right and tools work great i m sure that there is something that says it will not come as pictured but still i was disappointed the tools helped me get the job done but they also did not hold up well the plastic plying tools bent and broke fairly quickly i can t say that it wasn t user error but they seemed very cheap i bought this for my wife s year old iphone s she said it seemed to work about the same or a little better than the old battery not a huge improvement but an acceptable replacement if you need a new battery this review is for the iphone battery and tool set i realize now that the company is selling several different items under the same listing so the reviews can be confusing and not accurate like many other power users i e slaves of their iphones i came to the end of the usefulness for my iphone s internal battery after lamenting on whether or not to buy some of the cheaper options available i went with the you get what you pay for cliche and paid for the extra assurance that i was not getting a cheap knockoff the battery i received had a manufacturer date only a few months from when i ordered the piece who knows how accurate that is but if you re taking it at face value i find certain comfort knowing that my battery hasn t been sitting on the shelf losing it s potential usefulness in holding a charge for my crushing of candies after successfully opening my phone i can confirm that all the labeling and signage match exactly to what is on the original battery in my phone any copycat can do this but it gives me hope that this new battery comes from the same manufacturers as the oem battery the tools worked just fine for me i was able to pry the top glass of my phone off by using the tools provided in the kit do some extra research around properly removing the battery use the clear plastic sheet under the battery to help lift it up and separate from the adhesive that was the most challenging part of my battery replacement after two months of use i can make it through the whole day after heavy phone use without looking for a charger my life is complete again this is a good buy if it is what you are wanting i misread the product info and did not realize this is all torx screwdrivers this was a great deal easy to install and a direct fit replacement for the iphone s does what it should and hopefully it will last i fix my own phones and tab and mac computers desk top and laptop and ipad s so having the right tools are very important to me the price was the thing that did it for me great price purchased this to remove screws on my samsung galaxy sii but even the smallest tool in the set was too large i bought this set and have repaired my android a few times already and it s a must have tool set when working on such small electronics great tools i still use them and i like the quality great price as well good vendor i would buy more this tool set is better than expected the machining and finish is very good if used for small electronics and similar applications this set should be durable not bad but too little things inside is incomplete and the bad use of hexagonal but it is ok thanks this was a great deal for the set high quality materials at a low price i would recommend this product to a friend tools were required for opening gps ipod etc cases nice selection of sizes the plastic wedge tool is easily damaged a five star rating if it included a case i would have even paid extra for a case the torx screwdrivers were great the tweesers were substandard and the spluger was very cheap mine broke the first time i used it for the price you can not expect high quality all in all it did the job these were a supper price and while not supper strong they will do the job and you get a lot for your money for the price you can not beat this little stanley screwdriver set this one features several very tiny standard and phillips head screwdrivers if you have a need for very small head screwdrivers this one is for you these are useful for messing with eyeglasses certain electronics gadgets and firearms i have several revolvers and pistols which have sight adjustments that have outrageously small adjustment screws for these sights this little kit is a must none of my other tools could manage to fit these screws but this one did that alone made it worth the amazon price and this little kit has a permanent place in my range shooting bag rjb this tool repair kit is useful for repairs on a laptop smartphone eyeglasses and anything else with very small screws had a mix up with getting the item and slow shipping but it was all resolved in the end so i am satisfied with the purchase i really needed the torx driver tools to fix broken nexus back plate and this kit worked great i m really glad to have it around in case i need it again i ordered this to replace my iphone battery i am a deployed soldier and now i have become the cell phone technition the battery worked very well i used the screwdriver and the plastic pieces of the kit in replacement and the tips of the spudger get bent without hard use such as prying the old battery out still a great value in a diy kit to give new life to your tired iphone s i tried two yes two batteries and had to send both back because both were crap i finally decided to spend a bit more hoping it would equate to more quality well that seems to have paid off third time s the charm i guess the battery itself replaced my old battery perfectly it holds a charge well and reads the correct battery percentage the included tools were a bonus i already had a set of tools from replacing my wife s battery a while back however these were much better the old tools i had were stripping the tiny screw heads this set of tools gripped the screw heads perfectly overall i m very happy very handy tools i mostly use it when i have to fix soomething small like phones docks and other cool stuff very nice quality set of screwdrivers they sell bigger sets on here for cheaper but made by a different company do not buy them if you want a quality precision set of drivers this is the company to go with the tools are ok just not quite what i expected they were however better than the ones that came with the screen i ordered got this to replace an iphone battery that was only useable when it was tethered now it holds full charge and is ready to go great oem repalcement the tools are nice enough to use again too you get what you pay for they strip easily very cheaply made but i only needed them for a one time use and i didn t have to spend a bunch of money so i can t really complain but if you will need them more than once spend the money on good tools i have never bought an actual set in a box before over the years i have just cobbled together an odd assortment of small screwdrivers this was well rated inexpensive and in a case it is all that i expected it works for me good but if you plan to repair or take apart apple products this kit is completely useless and won t be worth it'"
            ]
          },
          "metadata": {
            "tags": []
          },
          "execution_count": 17
        }
      ]
    },
    {
      "cell_type": "code",
      "metadata": {
        "id": "1sbrxXOXMaGM"
      },
      "source": [
        "def score_keyphrases_by_textrank(text, n_keywords=0.05):\n",
        "    from itertools import takewhile, tee#, izip\n",
        "    import networkx, nltk\n",
        "    \n",
        "    words = [word.lower()\n",
        "             for sent in nltk.sent_tokenize(text)\n",
        "             for word in nltk.word_tokenize(sent)]\n",
        "    candidates = extract_candidate_words(text)\n",
        "    graph = networkx.Graph()\n",
        "    graph.add_nodes_from(set(candidates))\n",
        "\n",
        "    def pairwise(iterable):\n",
        "        a, b = tee(iterable)\n",
        "        next(b, None)\n",
        "        return zip(a, b)\n",
        "        \n",
        "    for w1, w2 in pairwise(candidates):\n",
        "        if w2:\n",
        "            graph.add_edge(*sorted([w1, w2]))\n",
        "    ranks = networkx.pagerank(graph)\n",
        "    if 0 < n_keywords < 1:\n",
        "        n_keywords = int(round(len(candidates) * n_keywords))\n",
        "    word_ranks = {word_rank[0]: word_rank[1]\n",
        "                  for word_rank in sorted(ranks.items(), key=lambda x: x[1], reverse=True)[:n_keywords]}\n",
        "    keywords = set(word_ranks.keys())\n",
        "    keyphrases = {}\n",
        "    j = 0\n",
        "    for i, word in enumerate(words):\n",
        "        if i < j:\n",
        "            continue\n",
        "        if word in keywords:\n",
        "            kp_words = list(takewhile(lambda x: x in keywords, words[i:i+10]))\n",
        "            avg_pagerank = sum(word_ranks[w] for w in kp_words) / float(len(kp_words))\n",
        "            keyphrases[' '.join(kp_words)] = avg_pagerank\n",
        "            j = i + len(kp_words)\n",
        "    \n",
        "    return sorted(keyphrases.items(), key=lambda x: x[1], reverse=True)"
      ],
      "execution_count": null,
      "outputs": []
    },
    {
      "cell_type": "code",
      "metadata": {
        "id": "bQ8wTJITMhOc",
        "colab": {
          "base_uri": "https://localhost:8080/",
          "height": 34
        },
        "outputId": "8f7f6503-6ffa-4507-b263-179c24d7572c"
      },
      "source": [
        "import datetime\n",
        "a = datetime.datetime.now() \n",
        "lngt = len(score_keyphrases_by_textrank(review_text))\n",
        "b = datetime.datetime.now() \n",
        "print(b-a)"
      ],
      "execution_count": null,
      "outputs": [
        {
          "output_type": "stream",
          "text": [
            "0:00:00.326738\n"
          ],
          "name": "stdout"
        }
      ]
    },
    {
      "cell_type": "code",
      "metadata": {
        "id": "aglIMslSMxGB",
        "colab": {
          "base_uri": "https://localhost:8080/",
          "height": 1000
        },
        "outputId": "7991b0a3-d448-444b-acbd-817c3b44373f"
      },
      "source": [
        "for i in range(lngt):\n",
        "  if len(score_keyphrases_by_textrank(review_text)[i][0]) > 10:\n",
        "    print(score_keyphrases_by_textrank(review_text)[i][0])"
      ],
      "execution_count": null,
      "outputs": [
        {
          "output_type": "stream",
          "text": [
            "iphone battery\n",
            "plastic tools\n",
            "good tool set\n",
            "battery use\n",
            "screwdriver set\n",
            "right tools\n",
            "iphone iphone\n",
            "handy tools\n",
            "old battery\n",
            "battery replacement\n",
            "battery last\n",
            "battery fit\n",
            "tools work great\n",
            "small electronics great tools\n",
            "plastic kit\n",
            "great price\n",
            "nice quality set\n",
            "small plastic\n",
            "good quality\n",
            "quality great price\n",
            "small screwdrivers\n",
            "right tools things\n",
            "torx driver tools\n",
            "useful tool\n",
            "screwdrivers\n",
            "plastic case\n",
            "small screws\n",
            "product great price\n",
            "use handy little set\n",
            "hard plastic\n",
            "small electronics\n",
            "great value\n",
            "cheap plastic\n",
            "small head screwdrivers\n",
            "screwdriver\n",
            "good nothing\n",
            "torx screwdrivers\n",
            "iphone star screw\n",
            "quality product\n",
            "quality handles\n",
            "head screwdrivers\n",
            "little better\n",
            "nice case nice\n",
            "handy screwdrivers work\n",
            "little things\n",
            "smaller screwdriver\n",
            "electronics\n",
            "torx drivers\n",
            "screw drivers\n",
            "flat head screwdriver\n",
            "screw right\n",
            "torx screw drivers work\n",
            "several sizes\n",
            "screw drivers work\n",
            "nothing screw drivers\n",
            "smaller sizes\n",
            "screw driver\n",
            "different sizes\n",
            "star screw driver\n",
            "tweezers work\n",
            "handle tweezers\n",
            "handle flat driver\n",
            "several different items\n",
            "philips driver\n",
            "smaller items\n",
            "replacement\n",
            "fit replacement\n"
          ],
          "name": "stdout"
        }
      ]
    },
    {
      "cell_type": "code",
      "metadata": {
        "id": "sM-YXMBV_L17"
      },
      "source": [
        ""
      ],
      "execution_count": null,
      "outputs": []
    }
  ]
}